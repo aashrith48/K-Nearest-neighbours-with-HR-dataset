{
 "cells": [
  {
   "cell_type": "code",
   "execution_count": 1,
   "metadata": {},
   "outputs": [],
   "source": [
    "import numpy as np\n",
    "import pandas as pd\n",
    "from matplotlib import pyplot as plt\n",
    "import seaborn as sns\n"
   ]
  },
  {
   "cell_type": "code",
   "execution_count": 2,
   "metadata": {},
   "outputs": [],
   "source": [
    "import sklearn.neighbors"
   ]
  },
  {
   "cell_type": "code",
   "execution_count": 3,
   "metadata": {},
   "outputs": [
    {
     "data": {
      "text/html": [
       "<div>\n",
       "<style scoped>\n",
       "    .dataframe tbody tr th:only-of-type {\n",
       "        vertical-align: middle;\n",
       "    }\n",
       "\n",
       "    .dataframe tbody tr th {\n",
       "        vertical-align: top;\n",
       "    }\n",
       "\n",
       "    .dataframe thead th {\n",
       "        text-align: right;\n",
       "    }\n",
       "</style>\n",
       "<table border=\"1\" class=\"dataframe\">\n",
       "  <thead>\n",
       "    <tr style=\"text-align: right;\">\n",
       "      <th></th>\n",
       "      <th>Late show up percentage</th>\n",
       "      <th>Project initiative percentage</th>\n",
       "      <th>Percentage of project delivery on time</th>\n",
       "      <th>Percentage of emails exchanged</th>\n",
       "      <th>Percentage of responsiveness</th>\n",
       "      <th>Percentage of professional email response</th>\n",
       "      <th>Percentage of sharing ideas</th>\n",
       "      <th>Percentage of helping colleagues</th>\n",
       "      <th>Percentage of entrepreneurial posts on LinkedIn</th>\n",
       "      <th>Percentage of Facebook comments</th>\n",
       "      <th>Quitting</th>\n",
       "    </tr>\n",
       "  </thead>\n",
       "  <tbody>\n",
       "    <tr>\n",
       "      <th>0</th>\n",
       "      <td>0.477912</td>\n",
       "      <td>0.517593</td>\n",
       "      <td>0.255846</td>\n",
       "      <td>0.446856</td>\n",
       "      <td>0.348797</td>\n",
       "      <td>0.064235</td>\n",
       "      <td>0.327526</td>\n",
       "      <td>0.231719</td>\n",
       "      <td>0.338214</td>\n",
       "      <td>0.471767</td>\n",
       "      <td>1</td>\n",
       "    </tr>\n",
       "    <tr>\n",
       "      <th>1</th>\n",
       "      <td>0.298068</td>\n",
       "      <td>0.403864</td>\n",
       "      <td>0.234836</td>\n",
       "      <td>0.490999</td>\n",
       "      <td>0.456119</td>\n",
       "      <td>0.274872</td>\n",
       "      <td>0.268036</td>\n",
       "      <td>0.480550</td>\n",
       "      <td>0.168622</td>\n",
       "      <td>0.680091</td>\n",
       "      <td>0</td>\n",
       "    </tr>\n",
       "    <tr>\n",
       "      <th>2</th>\n",
       "      <td>0.353470</td>\n",
       "      <td>0.545904</td>\n",
       "      <td>0.483996</td>\n",
       "      <td>0.509837</td>\n",
       "      <td>0.907533</td>\n",
       "      <td>0.326371</td>\n",
       "      <td>0.938657</td>\n",
       "      <td>0.575397</td>\n",
       "      <td>0.389811</td>\n",
       "      <td>0.514970</td>\n",
       "      <td>0</td>\n",
       "    </tr>\n",
       "    <tr>\n",
       "      <th>3</th>\n",
       "      <td>0.684900</td>\n",
       "      <td>0.678940</td>\n",
       "      <td>0.310686</td>\n",
       "      <td>0.490986</td>\n",
       "      <td>0.619742</td>\n",
       "      <td>0.436264</td>\n",
       "      <td>0.785889</td>\n",
       "      <td>0.727165</td>\n",
       "      <td>0.761269</td>\n",
       "      <td>0.409326</td>\n",
       "      <td>1</td>\n",
       "    </tr>\n",
       "    <tr>\n",
       "      <th>4</th>\n",
       "      <td>0.714167</td>\n",
       "      <td>0.365101</td>\n",
       "      <td>0.294082</td>\n",
       "      <td>0.392456</td>\n",
       "      <td>0.687196</td>\n",
       "      <td>0.314229</td>\n",
       "      <td>0.578492</td>\n",
       "      <td>0.233666</td>\n",
       "      <td>0.722546</td>\n",
       "      <td>0.621463</td>\n",
       "      <td>1</td>\n",
       "    </tr>\n",
       "    <tr>\n",
       "      <th>...</th>\n",
       "      <td>...</td>\n",
       "      <td>...</td>\n",
       "      <td>...</td>\n",
       "      <td>...</td>\n",
       "      <td>...</td>\n",
       "      <td>...</td>\n",
       "      <td>...</td>\n",
       "      <td>...</td>\n",
       "      <td>...</td>\n",
       "      <td>...</td>\n",
       "      <td>...</td>\n",
       "    </tr>\n",
       "    <tr>\n",
       "      <th>995</th>\n",
       "      <td>0.540622</td>\n",
       "      <td>0.425615</td>\n",
       "      <td>0.439613</td>\n",
       "      <td>0.363198</td>\n",
       "      <td>0.540406</td>\n",
       "      <td>0.230579</td>\n",
       "      <td>0.318439</td>\n",
       "      <td>0.013646</td>\n",
       "      <td>0.494684</td>\n",
       "      <td>0.565135</td>\n",
       "      <td>1</td>\n",
       "    </tr>\n",
       "    <tr>\n",
       "      <th>996</th>\n",
       "      <td>0.259226</td>\n",
       "      <td>0.369436</td>\n",
       "      <td>0.496785</td>\n",
       "      <td>0.470391</td>\n",
       "      <td>0.823357</td>\n",
       "      <td>0.717082</td>\n",
       "      <td>0.536417</td>\n",
       "      <td>0.278421</td>\n",
       "      <td>0.390341</td>\n",
       "      <td>0.816257</td>\n",
       "      <td>0</td>\n",
       "    </tr>\n",
       "    <tr>\n",
       "      <th>997</th>\n",
       "      <td>0.621092</td>\n",
       "      <td>0.388595</td>\n",
       "      <td>0.393724</td>\n",
       "      <td>0.548295</td>\n",
       "      <td>0.438829</td>\n",
       "      <td>0.443107</td>\n",
       "      <td>0.064574</td>\n",
       "      <td>0.060641</td>\n",
       "      <td>0.364369</td>\n",
       "      <td>0.594624</td>\n",
       "      <td>1</td>\n",
       "    </tr>\n",
       "    <tr>\n",
       "      <th>998</th>\n",
       "      <td>0.588408</td>\n",
       "      <td>0.301913</td>\n",
       "      <td>0.152232</td>\n",
       "      <td>0.390393</td>\n",
       "      <td>0.968955</td>\n",
       "      <td>0.485200</td>\n",
       "      <td>0.395298</td>\n",
       "      <td>0.512713</td>\n",
       "      <td>0.599986</td>\n",
       "      <td>0.437207</td>\n",
       "      <td>1</td>\n",
       "    </tr>\n",
       "    <tr>\n",
       "      <th>999</th>\n",
       "      <td>0.428501</td>\n",
       "      <td>0.373313</td>\n",
       "      <td>0.158579</td>\n",
       "      <td>0.474733</td>\n",
       "      <td>0.463829</td>\n",
       "      <td>0.115608</td>\n",
       "      <td>0.340598</td>\n",
       "      <td>0.409495</td>\n",
       "      <td>0.586658</td>\n",
       "      <td>0.578147</td>\n",
       "      <td>1</td>\n",
       "    </tr>\n",
       "  </tbody>\n",
       "</table>\n",
       "<p>1000 rows × 11 columns</p>\n",
       "</div>"
      ],
      "text/plain": [
       "     Late show up percentage  Project initiative percentage  \\\n",
       "0                   0.477912                       0.517593   \n",
       "1                   0.298068                       0.403864   \n",
       "2                   0.353470                       0.545904   \n",
       "3                   0.684900                       0.678940   \n",
       "4                   0.714167                       0.365101   \n",
       "..                       ...                            ...   \n",
       "995                 0.540622                       0.425615   \n",
       "996                 0.259226                       0.369436   \n",
       "997                 0.621092                       0.388595   \n",
       "998                 0.588408                       0.301913   \n",
       "999                 0.428501                       0.373313   \n",
       "\n",
       "     Percentage of project delivery on time  Percentage of emails exchanged  \\\n",
       "0                                  0.255846                        0.446856   \n",
       "1                                  0.234836                        0.490999   \n",
       "2                                  0.483996                        0.509837   \n",
       "3                                  0.310686                        0.490986   \n",
       "4                                  0.294082                        0.392456   \n",
       "..                                      ...                             ...   \n",
       "995                                0.439613                        0.363198   \n",
       "996                                0.496785                        0.470391   \n",
       "997                                0.393724                        0.548295   \n",
       "998                                0.152232                        0.390393   \n",
       "999                                0.158579                        0.474733   \n",
       "\n",
       "     Percentage of responsiveness  Percentage of professional email response  \\\n",
       "0                        0.348797                                   0.064235   \n",
       "1                        0.456119                                   0.274872   \n",
       "2                        0.907533                                   0.326371   \n",
       "3                        0.619742                                   0.436264   \n",
       "4                        0.687196                                   0.314229   \n",
       "..                            ...                                        ...   \n",
       "995                      0.540406                                   0.230579   \n",
       "996                      0.823357                                   0.717082   \n",
       "997                      0.438829                                   0.443107   \n",
       "998                      0.968955                                   0.485200   \n",
       "999                      0.463829                                   0.115608   \n",
       "\n",
       "     Percentage of sharing ideas  Percentage of helping colleagues  \\\n",
       "0                       0.327526                          0.231719   \n",
       "1                       0.268036                          0.480550   \n",
       "2                       0.938657                          0.575397   \n",
       "3                       0.785889                          0.727165   \n",
       "4                       0.578492                          0.233666   \n",
       "..                           ...                               ...   \n",
       "995                     0.318439                          0.013646   \n",
       "996                     0.536417                          0.278421   \n",
       "997                     0.064574                          0.060641   \n",
       "998                     0.395298                          0.512713   \n",
       "999                     0.340598                          0.409495   \n",
       "\n",
       "     Percentage of entrepreneurial posts on LinkedIn  \\\n",
       "0                                           0.338214   \n",
       "1                                           0.168622   \n",
       "2                                           0.389811   \n",
       "3                                           0.761269   \n",
       "4                                           0.722546   \n",
       "..                                               ...   \n",
       "995                                         0.494684   \n",
       "996                                         0.390341   \n",
       "997                                         0.364369   \n",
       "998                                         0.599986   \n",
       "999                                         0.586658   \n",
       "\n",
       "     Percentage of Facebook comments  Quitting  \n",
       "0                           0.471767         1  \n",
       "1                           0.680091         0  \n",
       "2                           0.514970         0  \n",
       "3                           0.409326         1  \n",
       "4                           0.621463         1  \n",
       "..                               ...       ...  \n",
       "995                         0.565135         1  \n",
       "996                         0.816257         0  \n",
       "997                         0.594624         1  \n",
       "998                         0.437207         1  \n",
       "999                         0.578147         1  \n",
       "\n",
       "[1000 rows x 11 columns]"
      ]
     },
     "execution_count": 3,
     "metadata": {},
     "output_type": "execute_result"
    }
   ],
   "source": [
    "df = pd.read_excel('HR_dataSet.xlsx')\n",
    "df"
   ]
  },
  {
   "cell_type": "code",
   "execution_count": 4,
   "metadata": {},
   "outputs": [
    {
     "data": {
      "text/html": [
       "<div>\n",
       "<style scoped>\n",
       "    .dataframe tbody tr th:only-of-type {\n",
       "        vertical-align: middle;\n",
       "    }\n",
       "\n",
       "    .dataframe tbody tr th {\n",
       "        vertical-align: top;\n",
       "    }\n",
       "\n",
       "    .dataframe thead th {\n",
       "        text-align: right;\n",
       "    }\n",
       "</style>\n",
       "<table border=\"1\" class=\"dataframe\">\n",
       "  <thead>\n",
       "    <tr style=\"text-align: right;\">\n",
       "      <th></th>\n",
       "      <th>Late show up percentage</th>\n",
       "      <th>Project initiative percentage</th>\n",
       "      <th>Percentage of project delivery on time</th>\n",
       "      <th>Percentage of emails exchanged</th>\n",
       "      <th>Percentage of responsiveness</th>\n",
       "      <th>Percentage of professional email response</th>\n",
       "      <th>Percentage of sharing ideas</th>\n",
       "      <th>Percentage of helping colleagues</th>\n",
       "      <th>Percentage of entrepreneurial posts on LinkedIn</th>\n",
       "      <th>Percentage of Facebook comments</th>\n",
       "    </tr>\n",
       "  </thead>\n",
       "  <tbody>\n",
       "    <tr>\n",
       "      <th>0</th>\n",
       "      <td>-0.123542</td>\n",
       "      <td>0.185907</td>\n",
       "      <td>-0.913431</td>\n",
       "      <td>0.319629</td>\n",
       "      <td>-1.033637</td>\n",
       "      <td>-2.308375</td>\n",
       "      <td>-0.798951</td>\n",
       "      <td>-1.482368</td>\n",
       "      <td>-0.949719</td>\n",
       "      <td>-0.643314</td>\n",
       "    </tr>\n",
       "    <tr>\n",
       "      <th>1</th>\n",
       "      <td>-1.084836</td>\n",
       "      <td>-0.430348</td>\n",
       "      <td>-1.025313</td>\n",
       "      <td>0.625388</td>\n",
       "      <td>-0.444847</td>\n",
       "      <td>-1.152706</td>\n",
       "      <td>-1.129797</td>\n",
       "      <td>-0.202240</td>\n",
       "      <td>-1.828051</td>\n",
       "      <td>0.636759</td>\n",
       "    </tr>\n",
       "    <tr>\n",
       "      <th>2</th>\n",
       "      <td>-0.788702</td>\n",
       "      <td>0.339318</td>\n",
       "      <td>0.301511</td>\n",
       "      <td>0.755873</td>\n",
       "      <td>2.031693</td>\n",
       "      <td>-0.870156</td>\n",
       "      <td>2.599818</td>\n",
       "      <td>0.285707</td>\n",
       "      <td>-0.682494</td>\n",
       "      <td>-0.377850</td>\n",
       "    </tr>\n",
       "    <tr>\n",
       "      <th>3</th>\n",
       "      <td>0.982841</td>\n",
       "      <td>1.060193</td>\n",
       "      <td>-0.621399</td>\n",
       "      <td>0.625299</td>\n",
       "      <td>0.452820</td>\n",
       "      <td>-0.267220</td>\n",
       "      <td>1.750208</td>\n",
       "      <td>1.066491</td>\n",
       "      <td>1.241325</td>\n",
       "      <td>-1.026987</td>\n",
       "    </tr>\n",
       "    <tr>\n",
       "      <th>4</th>\n",
       "      <td>1.139275</td>\n",
       "      <td>-0.640392</td>\n",
       "      <td>-0.709819</td>\n",
       "      <td>-0.057175</td>\n",
       "      <td>0.822886</td>\n",
       "      <td>-0.936773</td>\n",
       "      <td>0.596782</td>\n",
       "      <td>-1.472352</td>\n",
       "      <td>1.040772</td>\n",
       "      <td>0.276510</td>\n",
       "    </tr>\n",
       "    <tr>\n",
       "      <th>...</th>\n",
       "      <td>...</td>\n",
       "      <td>...</td>\n",
       "      <td>...</td>\n",
       "      <td>...</td>\n",
       "      <td>...</td>\n",
       "      <td>...</td>\n",
       "      <td>...</td>\n",
       "      <td>...</td>\n",
       "      <td>...</td>\n",
       "      <td>...</td>\n",
       "    </tr>\n",
       "    <tr>\n",
       "      <th>995</th>\n",
       "      <td>0.211653</td>\n",
       "      <td>-0.312490</td>\n",
       "      <td>0.065163</td>\n",
       "      <td>-0.259834</td>\n",
       "      <td>0.017567</td>\n",
       "      <td>-1.395721</td>\n",
       "      <td>-0.849486</td>\n",
       "      <td>-2.604264</td>\n",
       "      <td>-0.139347</td>\n",
       "      <td>-0.069602</td>\n",
       "    </tr>\n",
       "    <tr>\n",
       "      <th>996</th>\n",
       "      <td>-1.292453</td>\n",
       "      <td>-0.616901</td>\n",
       "      <td>0.369613</td>\n",
       "      <td>0.482648</td>\n",
       "      <td>1.569891</td>\n",
       "      <td>1.273495</td>\n",
       "      <td>0.362784</td>\n",
       "      <td>-1.242110</td>\n",
       "      <td>-0.679746</td>\n",
       "      <td>1.473448</td>\n",
       "    </tr>\n",
       "    <tr>\n",
       "      <th>997</th>\n",
       "      <td>0.641777</td>\n",
       "      <td>-0.513083</td>\n",
       "      <td>-0.179205</td>\n",
       "      <td>1.022255</td>\n",
       "      <td>-0.539703</td>\n",
       "      <td>-0.229680</td>\n",
       "      <td>-2.261339</td>\n",
       "      <td>-2.362494</td>\n",
       "      <td>-0.814261</td>\n",
       "      <td>0.111597</td>\n",
       "    </tr>\n",
       "    <tr>\n",
       "      <th>998</th>\n",
       "      <td>0.467072</td>\n",
       "      <td>-0.982786</td>\n",
       "      <td>-1.465194</td>\n",
       "      <td>-0.071465</td>\n",
       "      <td>2.368666</td>\n",
       "      <td>0.001269</td>\n",
       "      <td>-0.422041</td>\n",
       "      <td>-0.036777</td>\n",
       "      <td>0.406025</td>\n",
       "      <td>-0.855670</td>\n",
       "    </tr>\n",
       "    <tr>\n",
       "      <th>999</th>\n",
       "      <td>-0.387654</td>\n",
       "      <td>-0.595894</td>\n",
       "      <td>-1.431398</td>\n",
       "      <td>0.512722</td>\n",
       "      <td>-0.402552</td>\n",
       "      <td>-2.026512</td>\n",
       "      <td>-0.726253</td>\n",
       "      <td>-0.567789</td>\n",
       "      <td>0.336997</td>\n",
       "      <td>0.010350</td>\n",
       "    </tr>\n",
       "  </tbody>\n",
       "</table>\n",
       "<p>1000 rows × 10 columns</p>\n",
       "</div>"
      ],
      "text/plain": [
       "     Late show up percentage  Project initiative percentage  \\\n",
       "0                  -0.123542                       0.185907   \n",
       "1                  -1.084836                      -0.430348   \n",
       "2                  -0.788702                       0.339318   \n",
       "3                   0.982841                       1.060193   \n",
       "4                   1.139275                      -0.640392   \n",
       "..                       ...                            ...   \n",
       "995                 0.211653                      -0.312490   \n",
       "996                -1.292453                      -0.616901   \n",
       "997                 0.641777                      -0.513083   \n",
       "998                 0.467072                      -0.982786   \n",
       "999                -0.387654                      -0.595894   \n",
       "\n",
       "     Percentage of project delivery on time  Percentage of emails exchanged  \\\n",
       "0                                 -0.913431                        0.319629   \n",
       "1                                 -1.025313                        0.625388   \n",
       "2                                  0.301511                        0.755873   \n",
       "3                                 -0.621399                        0.625299   \n",
       "4                                 -0.709819                       -0.057175   \n",
       "..                                      ...                             ...   \n",
       "995                                0.065163                       -0.259834   \n",
       "996                                0.369613                        0.482648   \n",
       "997                               -0.179205                        1.022255   \n",
       "998                               -1.465194                       -0.071465   \n",
       "999                               -1.431398                        0.512722   \n",
       "\n",
       "     Percentage of responsiveness  Percentage of professional email response  \\\n",
       "0                       -1.033637                                  -2.308375   \n",
       "1                       -0.444847                                  -1.152706   \n",
       "2                        2.031693                                  -0.870156   \n",
       "3                        0.452820                                  -0.267220   \n",
       "4                        0.822886                                  -0.936773   \n",
       "..                            ...                                        ...   \n",
       "995                      0.017567                                  -1.395721   \n",
       "996                      1.569891                                   1.273495   \n",
       "997                     -0.539703                                  -0.229680   \n",
       "998                      2.368666                                   0.001269   \n",
       "999                     -0.402552                                  -2.026512   \n",
       "\n",
       "     Percentage of sharing ideas  Percentage of helping colleagues  \\\n",
       "0                      -0.798951                         -1.482368   \n",
       "1                      -1.129797                         -0.202240   \n",
       "2                       2.599818                          0.285707   \n",
       "3                       1.750208                          1.066491   \n",
       "4                       0.596782                         -1.472352   \n",
       "..                           ...                               ...   \n",
       "995                    -0.849486                         -2.604264   \n",
       "996                     0.362784                         -1.242110   \n",
       "997                    -2.261339                         -2.362494   \n",
       "998                    -0.422041                         -0.036777   \n",
       "999                    -0.726253                         -0.567789   \n",
       "\n",
       "     Percentage of entrepreneurial posts on LinkedIn  \\\n",
       "0                                          -0.949719   \n",
       "1                                          -1.828051   \n",
       "2                                          -0.682494   \n",
       "3                                           1.241325   \n",
       "4                                           1.040772   \n",
       "..                                               ...   \n",
       "995                                        -0.139347   \n",
       "996                                        -0.679746   \n",
       "997                                        -0.814261   \n",
       "998                                         0.406025   \n",
       "999                                         0.336997   \n",
       "\n",
       "     Percentage of Facebook comments  \n",
       "0                          -0.643314  \n",
       "1                           0.636759  \n",
       "2                          -0.377850  \n",
       "3                          -1.026987  \n",
       "4                           0.276510  \n",
       "..                               ...  \n",
       "995                        -0.069602  \n",
       "996                         1.473448  \n",
       "997                         0.111597  \n",
       "998                        -0.855670  \n",
       "999                         0.010350  \n",
       "\n",
       "[1000 rows x 10 columns]"
      ]
     },
     "execution_count": 4,
     "metadata": {},
     "output_type": "execute_result"
    }
   ],
   "source": [
    "from sklearn.preprocessing import StandardScaler\n",
    "scaler = StandardScaler()\n",
    "x_norm = scaler.fit_transform(df.drop('Quitting', axis=1))\n",
    "df1 = pd.DataFrame(x_norm,columns=df.columns[:-1])\n",
    "df1"
   ]
  },
  {
   "cell_type": "code",
   "execution_count": 5,
   "metadata": {},
   "outputs": [],
   "source": [
    "y = df['Quitting']\n"
   ]
  },
  {
   "cell_type": "code",
   "execution_count": 6,
   "metadata": {},
   "outputs": [],
   "source": [
    "from sklearn.model_selection import train_test_split\n",
    "from sklearn.neighbors import KNeighborsClassifier\n",
    "from sklearn.metrics import classification_report,confusion_matrix"
   ]
  },
  {
   "cell_type": "markdown",
   "metadata": {},
   "source": [
    "# Test size 0.2"
   ]
  },
  {
   "cell_type": "markdown",
   "metadata": {},
   "source": [
    "# 5 Neighbors"
   ]
  },
  {
   "cell_type": "code",
   "execution_count": 7,
   "metadata": {},
   "outputs": [
    {
     "name": "stdout",
     "output_type": "stream",
     "text": [
      "              precision    recall  f1-score   support\n",
      "\n",
      "           0       0.94      0.91      0.93       105\n",
      "           1       0.91      0.94      0.92        95\n",
      "\n",
      "    accuracy                           0.93       200\n",
      "   macro avg       0.92      0.93      0.92       200\n",
      "weighted avg       0.93      0.93      0.93       200\n",
      "\n",
      "AxesSubplot(0.125,0.125;0.62x0.755)\n"
     ]
    },
    {
     "data": {
      "image/png": "[encoded data removed]",
      "text/plain": [
       "<Figure size 432x288 with 2 Axes>"
      ]
     },
     "metadata": {
      "needs_background": "light"
     },
     "output_type": "display_data"
    }
   ],
   "source": [
    "np.random.seed(1000)\n",
    "x_tr,x_te,y_tr,y_te = train_test_split(df1,y,test_size=0.2) \n",
    "knn = KNeighborsClassifier(n_neighbors = 5)\n",
    "knn.fit(x_tr,y_tr)\n",
    "pred = knn.predict(x_te)\n",
    "print(classification_report(y_te,pred))\n",
    "print(sns.heatmap(confusion_matrix(y_te,pred)))"
   ]
  },
  {
   "cell_type": "markdown",
   "metadata": {},
   "source": [
    "# 15 Neighbors"
   ]
  },
  {
   "cell_type": "code",
   "execution_count": 8,
   "metadata": {},
   "outputs": [
    {
     "name": "stdout",
     "output_type": "stream",
     "text": [
      "              precision    recall  f1-score   support\n",
      "\n",
      "           0       0.96      0.90      0.93       105\n",
      "           1       0.90      0.96      0.93        95\n",
      "\n",
      "    accuracy                           0.93       200\n",
      "   macro avg       0.93      0.93      0.93       200\n",
      "weighted avg       0.93      0.93      0.93       200\n",
      "\n",
      "AxesSubplot(0.125,0.125;0.62x0.755)\n"
     ]
    },
    {
     "data": {
      "image/png": "[encoded data removed]",
      "text/plain": [
       "<Figure size 432x288 with 2 Axes>"
      ]
     },
     "metadata": {
      "needs_background": "light"
     },
     "output_type": "display_data"
    }
   ],
   "source": [
    "knn1 = KNeighborsClassifier(n_neighbors = 15)\n",
    "knn1.fit(x_tr,y_tr)\n",
    "pred1 = knn1.predict(x_te)\n",
    "print(classification_report(y_te,pred1))\n",
    "print(sns.heatmap(confusion_matrix(y_te,pred1)))"
   ]
  },
  {
   "cell_type": "markdown",
   "metadata": {},
   "source": [
    "# Comparison with logistic regression"
   ]
  },
  {
   "cell_type": "code",
   "execution_count": 9,
   "metadata": {},
   "outputs": [
    {
     "name": "stdout",
     "output_type": "stream",
     "text": [
      "              precision    recall  f1-score   support\n",
      "\n",
      "           0       0.96      0.91      0.94       105\n",
      "           1       0.91      0.96      0.93        95\n",
      "\n",
      "    accuracy                           0.94       200\n",
      "   macro avg       0.94      0.94      0.93       200\n",
      "weighted avg       0.94      0.94      0.94       200\n",
      "\n"
     ]
    },
    {
     "data": {
      "image/png": "[encoded data removed]",
      "text/plain": [
       "<Figure size 432x288 with 2 Axes>"
      ]
     },
     "metadata": {
      "needs_background": "light"
     },
     "output_type": "display_data"
    }
   ],
   "source": [
    "from sklearn.linear_model import LogisticRegression\n",
    "logreg = LogisticRegression()\n",
    "logreg.fit(x_tr,y_tr)\n",
    "y_pred = logreg.predict(x_te)\n",
    "sns.heatmap(confusion_matrix(y_te,y_pred))\n",
    "print(classification_report(y_te,y_pred))"
   ]
  },
  {
   "cell_type": "markdown",
   "metadata": {},
   "source": [
    "# Test size 0.4"
   ]
  },
  {
   "cell_type": "code",
   "execution_count": 10,
   "metadata": {},
   "outputs": [],
   "source": [
    "np.random.seed(1000)\n",
    "x_tr1,x_te1,y_tr1,y_te1 = train_test_split(df1,y,test_size=0.4) "
   ]
  },
  {
   "cell_type": "markdown",
   "metadata": {},
   "source": [
    "# 5 Neighborsh"
   ]
  },
  {
   "cell_type": "code",
   "execution_count": 11,
   "metadata": {},
   "outputs": [
    {
     "name": "stdout",
     "output_type": "stream",
     "text": [
      "              precision    recall  f1-score   support\n",
      "\n",
      "           0       0.94      0.92      0.93       206\n",
      "           1       0.92      0.94      0.93       194\n",
      "\n",
      "    accuracy                           0.93       400\n",
      "   macro avg       0.93      0.93      0.93       400\n",
      "weighted avg       0.93      0.93      0.93       400\n",
      "\n",
      "AxesSubplot(0.125,0.125;0.62x0.755)\n"
     ]
    },
    {
     "data": {
      "image/png": "[encoded data removed]",
      "text/plain": [
       "<Figure size 432x288 with 2 Axes>"
      ]
     },
     "metadata": {
      "needs_background": "light"
     },
     "output_type": "display_data"
    }
   ],
   "source": [
    "knn3 = KNeighborsClassifier(n_neighbors = 5)\n",
    "knn3.fit(x_tr1,y_tr1)\n",
    "pred2 = knn3.predict(x_te1)\n",
    "print(classification_report(y_te1,pred2))\n",
    "print(sns.heatmap(confusion_matrix(y_te1,pred2)))"
   ]
  },
  {
   "cell_type": "markdown",
   "metadata": {},
   "source": [
    "# 15 Neighbors"
   ]
  },
  {
   "cell_type": "code",
   "execution_count": 12,
   "metadata": {},
   "outputs": [
    {
     "name": "stdout",
     "output_type": "stream",
     "text": [
      "              precision    recall  f1-score   support\n",
      "\n",
      "           0       0.94      0.92      0.93       206\n",
      "           1       0.91      0.94      0.93       194\n",
      "\n",
      "    accuracy                           0.93       400\n",
      "   macro avg       0.93      0.93      0.93       400\n",
      "weighted avg       0.93      0.93      0.93       400\n",
      "\n",
      "AxesSubplot(0.125,0.125;0.62x0.755)\n"
     ]
    },
    {
     "data": {
      "image/png": "[encoded data removed]",
      "text/plain": [
       "<Figure size 432x288 with 2 Axes>"
      ]
     },
     "metadata": {
      "needs_background": "light"
     },
     "output_type": "display_data"
    }
   ],
   "source": [
    "knn4 = KNeighborsClassifier(n_neighbors = 15)\n",
    "knn4.fit(x_tr1,y_tr1)\n",
    "pred3 = knn4.predict(x_te1)\n",
    "print(classification_report(y_te1,pred3))\n",
    "print(sns.heatmap(confusion_matrix(y_te1,pred3)))"
   ]
  },
  {
   "cell_type": "markdown",
   "metadata": {},
   "source": [
    "# Comparison with Logistic Regression"
   ]
  },
  {
   "cell_type": "code",
   "execution_count": 13,
   "metadata": {},
   "outputs": [
    {
     "name": "stdout",
     "output_type": "stream",
     "text": [
      "              precision    recall  f1-score   support\n",
      "\n",
      "           0       0.95      0.93      0.94       206\n",
      "           1       0.93      0.94      0.94       194\n",
      "\n",
      "    accuracy                           0.94       400\n",
      "   macro avg       0.94      0.94      0.94       400\n",
      "weighted avg       0.94      0.94      0.94       400\n",
      "\n"
     ]
    },
    {
     "data": {
      "image/png": "[encoded data removed]",
      "text/plain": [
       "<Figure size 432x288 with 2 Axes>"
      ]
     },
     "metadata": {
      "needs_background": "light"
     },
     "output_type": "display_data"
    }
   ],
   "source": [
    "logreg1 = LogisticRegression()\n",
    "logreg1.fit(x_tr1,y_tr1)\n",
    "y_pred1 = logreg1.predict(x_te1)\n",
    "sns.heatmap(confusion_matrix(y_te1,y_pred1))\n",
    "print(classification_report(y_te1,y_pred1))"
   ]
  },
  {
   "cell_type": "code",
   "execution_count": 14,
   "metadata": {},
   "outputs": [],
   "source": [
    "import pypandoc"
   ]
  },
  {
   "cell_type": "code",
   "execution_count": 17,
   "metadata": {},
   "outputs": [
    {
     "name": "stderr",
     "output_type": "stream",
     "text": [
      "C:\\ProgramData\\Anaconda3\\lib\\site-packages\\ipykernel_launcher.py:1: DeprecationWarning: Due to possible ambiguity, 'convert()' is deprecated. Use 'convert_file()'  or 'convert_text()'.\n",
      "  \"\"\"Entry point for launching an IPython kernel.\n"
     ]
    },
    {
     "data": {
      "text/plain": [
       "''"
      ]
     },
     "execution_count": 17,
     "metadata": {},
     "output_type": "execute_result"
    }
   ],
   "source": [
    "pypandoc.convert('Assignment 11.md','docx',outputfile='Assignment 11.docx')"
   ]
  },
  {
   "cell_type": "code",
   "execution_count": null,
   "metadata": {},
   "outputs": [],
   "source": []
  },
  {
   "cell_type": "code",
   "execution_count": null,
   "metadata": {},
   "outputs": [],
   "source": []
  }
 ],
 "metadata": {
  "kernelspec": {
   "display_name": "Python 3",
   "language": "python",
   "name": "python3"
  },
  "language_info": {
   "codemirror_mode": {
    "name": "ipython",
    "version": 3
   },
   "file_extension": ".py",
   "mimetype": "text/x-python",
   "name": "python",
   "nbconvert_exporter": "python",
   "pygments_lexer": "ipython3",
   "version": "3.7.6"
  }
 },
 "nbformat": 4,
 "nbformat_minor": 4
}
